{
 "cells": [
  {
   "cell_type": "code",
   "execution_count": 22,
   "id": "a878904d-8334-4dad-bf37-366d1c090050",
   "metadata": {},
   "outputs": [],
   "source": [
    "import pandas as pd\n",
    "import numpy as np\n",
    "import networkx as nx\n",
    "import pickle\n",
    "from thefuzz import fuzz\n",
    "from thefuzz import process\n",
    "import warnings\n",
    "import matplotlib.pyplot as plt"
   ]
  },
  {
   "cell_type": "code",
   "execution_count": 3,
   "id": "bfbd8a24-0b95-479b-9292-c6880364da9a",
   "metadata": {},
   "outputs": [],
   "source": [
    "df_trade = pd.read_csv(\"cites_analysis_output/processed_cites_trade_data.csv\")"
   ]
  },
  {
   "cell_type": "code",
   "execution_count": 4,
   "id": "9e8ef92a-e386-4c5a-82bf-272c88f82ebc",
   "metadata": {},
   "outputs": [],
   "source": [
    "with open('pathogen_sharing_network.gpickle', 'rb') as f:\n",
    "    G_pathogen = pickle.load(f)"
   ]
  },
  {
   "cell_type": "markdown",
   "id": "0c7a3e6b-8a8b-4fbe-a9b3-a41960a55cc3",
   "metadata": {},
   "source": [
    "### Data Cleaning and Standardization\n",
    "\n",
    "Species names may differ across datasets (e.g., extra spaces, capitalization, or parentheses).  \n",
    "We normalize names to lowercase, remove punctuation, and trim extra spaces to ensure consistent merging.\n"
   ]
  },
  {
   "cell_type": "code",
   "execution_count": 6,
   "id": "7995d8dc-144b-4c8e-a295-235802d0aecd",
   "metadata": {},
   "outputs": [],
   "source": [
    "def standardize_species_name(name):\n",
    "    \"\"\" Standardize species names for better matching. \"\"\"\n",
    "    if pd.isna(name) or name == '':\n",
    "        return None\n",
    "    \n",
    "    # Convert to string and strip whitespace\n",
    "    name = str(name).strip()\n",
    "    \n",
    "    # Remove common suffixes and subspecies designations\n",
    "    name = name.split(' subsp.')[0]\n",
    "    name = name.split(' var.')[0]\n",
    "    \n",
    "    # Take only genus and species (first two words for binomial)\n",
    "    parts = name.split()\n",
    "    if len(parts) >= 2:\n",
    "        name = f\"{parts[0]} {parts[1]}\"\n",
    "    \n",
    "    # Standardize capitalization: Genus Species\n",
    "    parts = name.split()\n",
    "    if len(parts) >= 2:\n",
    "        name = f\"{parts[0].capitalize()} {parts[1].lower()}\"\n",
    "    \n",
    "    return name"
   ]
  },
  {
   "cell_type": "markdown",
   "id": "ba673f7f-fa44-48bd-bdf0-9967156c18f8",
   "metadata": {},
   "source": [
    "### Fuzzy Matching of Species Names\n",
    "\n",
    "To link species across datasets, we perform fuzzy string matching using `fuzz.token_sort_ratio`.  \n",
    "For each species in the CITES dataset, we find the closest matching species name in the pathogen network and record a similarity confidence score.\n"
   ]
  },
  {
   "cell_type": "code",
   "execution_count": 7,
   "id": "d007a60c-bcc0-44b4-8f55-1f5571de23e7",
   "metadata": {},
   "outputs": [],
   "source": [
    "def fuzzy_match_species(trade_species_list, pathogen_species_list, threshold=85):\n",
    "    \"\"\"\n",
    "    Perform fuzzy matching between trade and pathogen species lists.\n",
    "    Returns a mapping dictionary.\n",
    "    \"\"\"\n",
    "    matches = {}\n",
    "    unmatched = []\n",
    "    \n",
    "    print(f\"\\n Performing fuzzy matching (threshold: {threshold})...\")\n",
    "    \n",
    "    for trade_sp in trade_species_list:\n",
    "        # Try exact match first\n",
    "        if trade_sp in pathogen_species_list:\n",
    "            matches[trade_sp] = trade_sp\n",
    "            continue\n",
    "        \n",
    "        # Try fuzzy match\n",
    "        result = process.extractOne(trade_sp, pathogen_species_list, scorer=fuzz.ratio)\n",
    "        if result and result[1] >= threshold:\n",
    "            matches[trade_sp] = result[0]\n",
    "        else:\n",
    "            unmatched.append(trade_sp)\n",
    "    \n",
    "    return matches, unmatched"
   ]
  },
  {
   "cell_type": "code",
   "execution_count": 8,
   "id": "f87252ca-d500-4829-9314-1fc315d1d6fc",
   "metadata": {},
   "outputs": [
    {
     "name": "stdout",
     "output_type": "stream",
     "text": [
      "  Trade data: 6153 unique standardized species\n"
     ]
    }
   ],
   "source": [
    "df_trade['Taxon_standardized'] = df_trade['Taxon'].apply(standardize_species_name)\n",
    "trade_species = df_trade['Taxon_standardized'].dropna().unique()\n",
    "print(f\"  Trade data: {len(trade_species)} unique standardized species\")"
   ]
  },
  {
   "cell_type": "code",
   "execution_count": 10,
   "id": "34d99cef-d6b3-4477-8970-b2842e4c0bac",
   "metadata": {},
   "outputs": [
    {
     "name": "stdout",
     "output_type": "stream",
     "text": [
      "  Pathogen network: 1884 unique standardized species\n"
     ]
    }
   ],
   "source": [
    "pathogen_name_map = {node: standardize_species_name(node) for node in G_pathogen.nodes()}\n",
    "pathogen_species = [name for name in pathogen_name_map.values() if name is not None]\n",
    "pathogen_species = list(set(pathogen_species))  # Remove duplicates\n",
    "print(f\"  Pathogen network: {len(pathogen_species)} unique standardized species\")"
   ]
  },
  {
   "cell_type": "code",
   "execution_count": 11,
   "id": "12e87b81-ad63-4bb8-af77-446e37ef526c",
   "metadata": {},
   "outputs": [
    {
     "name": "stdout",
     "output_type": "stream",
     "text": [
      "\n",
      " Performing fuzzy matching (threshold: 85)...\n",
      "\n",
      " Matching Results:\n",
      "  Exact + Fuzzy matches: 596 (9.7%)\n",
      "  Unmatched species: 5557 (90.3%)\n"
     ]
    }
   ],
   "source": [
    "    # Perform fuzzy matching\n",
    "    species_matches, unmatched_species = fuzzy_match_species(\n",
    "        trade_species, \n",
    "        pathogen_species, \n",
    "        threshold=85\n",
    "    )\n",
    "    \n",
    "    print(f\"\\n Matching Results:\")\n",
    "    print(f\"  Exact + Fuzzy matches: {len(species_matches)} ({len(species_matches)/len(trade_species)*100:.1f}%)\")\n",
    "    print(f\"  Unmatched species: {len(unmatched_species)} ({len(unmatched_species)/len(trade_species)*100:.1f}%)\")"
   ]
  },
  {
   "cell_type": "code",
   "execution_count": 12,
   "id": "dc2c8665-f77c-472b-b350-6fc3489302de",
   "metadata": {},
   "outputs": [
    {
     "name": "stdout",
     "output_type": "stream",
     "text": [
      " Created 10 trade-based features\n",
      " Features: ['total_trade_records', 'total_quantity', 'num_importers', 'num_exporters', 'num_trade_years', 'avg_quantity_per_trade', 'trade_diversity', 'trade_intensity', 'log_total_quantity', 'log_trade_records']\n",
      "\n",
      "Trade Feature Statistics:\n",
      "       total_trade_records  total_quantity  num_importers  num_exporters  \\\n",
      "count              6153.00    6.153000e+03        6153.00        6153.00   \n",
      "mean               3273.47    1.770309e+06          16.52          11.64   \n",
      "std               67563.85    6.229687e+07          27.14          18.92   \n",
      "min                   1.00    4.000000e-02           1.00           1.00   \n",
      "25%                   4.00    2.000000e+01           2.00           2.00   \n",
      "50%                  19.00    2.580000e+02           5.00           4.00   \n",
      "75%                 179.00    3.761000e+03          18.00          13.00   \n",
      "max             4795470.00    3.678974e+09         245.00         200.00   \n",
      "\n",
      "       num_trade_years  avg_quantity_per_trade  trade_diversity  \\\n",
      "count          6153.00                 6153.00          6153.00   \n",
      "mean             14.17                  133.33           649.44   \n",
      "std              14.39                 1109.02          2473.41   \n",
      "min               1.00                    0.04             1.00   \n",
      "25%               2.00                    3.00             4.00   \n",
      "50%               8.00                    9.38            22.00   \n",
      "75%              23.00                   31.64           220.00   \n",
      "max              50.00                37800.21         48020.00   \n",
      "\n",
      "       trade_intensity  log_total_quantity  log_trade_records  \n",
      "count          6153.00             6153.00            6153.00  \n",
      "mean            133.33                5.94               3.60  \n",
      "std            1109.02                3.62               2.51  \n",
      "min               0.04                0.04               0.69  \n",
      "25%               3.00                3.04               1.61  \n",
      "50%               9.38                5.56               3.00  \n",
      "75%              31.64                8.23               5.19  \n",
      "max           37800.21               22.03              15.38  \n"
     ]
    }
   ],
   "source": [
    "trade_features = df_trade.groupby('Taxon_standardized').agg(\n",
    "    total_trade_records=('Year', 'count'),\n",
    "    total_quantity=('Quantity', 'sum'),\n",
    "    num_importers=('Importer', 'nunique'),\n",
    "    num_exporters=('Exporter', 'nunique'),\n",
    "    num_trade_years=('Year', 'nunique'),\n",
    "    avg_quantity_per_trade=('Quantity', 'mean')\n",
    ").reset_index()\n",
    "\n",
    "# Additional derived features\n",
    "trade_features['trade_diversity'] = (\n",
    "    trade_features['num_importers'] * trade_features['num_exporters']\n",
    ")\n",
    "trade_features['trade_intensity'] = (\n",
    "    trade_features['total_quantity'] / trade_features['total_trade_records']\n",
    ")\n",
    "\n",
    "# Normalize some features (log transform for heavy-tailed distributions)\n",
    "trade_features['log_total_quantity'] = np.log1p(trade_features['total_quantity'])\n",
    "trade_features['log_trade_records'] = np.log1p(trade_features['total_trade_records'])\n",
    "\n",
    "trade_features.rename(columns={'Taxon_standardized': 'species_name'}, inplace=True)\n",
    "\n",
    "print(f\" Created {len(trade_features.columns)-1} trade-based features\")\n",
    "print(f\" Features: {list(trade_features.columns[1:])}\")\n",
    "\n",
    "print(\"\\nTrade Feature Statistics:\")\n",
    "print(trade_features.describe().round(2))"
   ]
  },
  {
   "cell_type": "code",
   "execution_count": 13,
   "id": "85a956ed-9573-4149-ae5a-88b26cef942c",
   "metadata": {},
   "outputs": [
    {
     "name": "stdout",
     "output_type": "stream",
     "text": [
      " Created 7 pathogen network features\n",
      "  Features: ['pathogen_network_degree', 'avg_neighbor_degree', 'clustering_coefficient', 'max_degree_variant', 'is_pathogen_hub', 'is_high_risk_reservoir', 'normalized_degree']\n",
      "\n",
      " Pathogen Network Feature Statistics:\n",
      "       pathogen_network_degree  avg_neighbor_degree  clustering_coefficient  \\\n",
      "count                  1884.00              1884.00                 1884.00   \n",
      "mean                    296.49               472.30                    0.85   \n",
      "std                     260.60               128.22                    0.20   \n",
      "min                       0.00                 0.00                    0.00   \n",
      "25%                      83.00               393.33                    0.73   \n",
      "50%                     247.00               469.67                    1.00   \n",
      "75%                     525.00               569.96                    1.00   \n",
      "max                    1493.00              1302.00                    1.00   \n",
      "\n",
      "       max_degree_variant  is_pathogen_hub  is_high_risk_reservoir  \\\n",
      "count             1884.00          1884.00                 1884.00   \n",
      "mean               296.44             0.05                    0.29   \n",
      "std                260.63             0.22                    0.46   \n",
      "min                  0.00             0.00                    0.00   \n",
      "25%                 83.00             0.00                    0.00   \n",
      "50%                247.00             0.00                    0.00   \n",
      "75%                525.00             0.00                    1.00   \n",
      "max               1493.00             1.00                    1.00   \n",
      "\n",
      "       normalized_degree  \n",
      "count            1884.00  \n",
      "mean                0.20  \n",
      "std                 0.17  \n",
      "min                 0.00  \n",
      "25%                 0.06  \n",
      "50%                 0.17  \n",
      "75%                 0.35  \n",
      "max                 1.00  \n",
      "\n",
      " Risk Classification:\n",
      "  Pathogen hubs (95th percentile): 95 species\n",
      "  High-risk reservoirs (75th percentile): 553 species\n",
      "\n",
      " Top 10 species by pathogen connections:\n",
      "       species_name  pathogen_network_degree  is_pathogen_hub\n",
      "         Bos taurus                     1493                1\n",
      "         Sus scrofa                     1474                1\n",
      "     Equus caballus                     1429                1\n",
      "        Canis lupus                     1414                1\n",
      "       Mus musculus                     1346                1\n",
      "      Gallus gallus                     1295                1\n",
      "Camelus dromedarius                     1170                1\n",
      "       Capra hircus                     1168                1\n",
      "      Procyon lotor                     1168                1\n",
      "      Columba livia                     1115                1\n"
     ]
    }
   ],
   "source": [
    "genetic_features_list = []\n",
    "\n",
    "# Create reverse mapping (standardized -> original names)\n",
    "std_to_orig = {}\n",
    "for orig, std in pathogen_name_map.items():\n",
    "    if std is not None:\n",
    "        if std not in std_to_orig:\n",
    "            std_to_orig[std] = []\n",
    "        std_to_orig[std].append(orig)\n",
    "\n",
    "for std_name, orig_names in std_to_orig.items():\n",
    "    # Aggregate features across all original names that map to this standardized name\n",
    "    total_degree = sum(G_pathogen.degree(orig) for orig in orig_names)\n",
    "    \n",
    "    # Calculate additional network metrics\n",
    "    avg_neighbor_degree = np.mean([\n",
    "        np.mean([G_pathogen.degree(n) for n in G_pathogen.neighbors(orig)])\n",
    "        if G_pathogen.degree(orig) > 0 else 0\n",
    "        for orig in orig_names\n",
    "    ])\n",
    "    \n",
    "    # Clustering coefficient\n",
    "    avg_clustering = np.mean([\n",
    "        nx.clustering(G_pathogen, orig) for orig in orig_names\n",
    "    ])\n",
    "    \n",
    "    # Betweenness centrality (computationally expensive, use sample)\n",
    "    max_degree = max(G_pathogen.degree(orig) for orig in orig_names)\n",
    "    \n",
    "    genetic_features_list.append({\n",
    "        'species_name': std_name,\n",
    "        'pathogen_network_degree': total_degree,\n",
    "        'avg_neighbor_degree': avg_neighbor_degree,\n",
    "        'clustering_coefficient': avg_clustering,\n",
    "        'max_degree_variant': max_degree\n",
    "    })\n",
    "\n",
    "genetic_features = pd.DataFrame(genetic_features_list)\n",
    "\n",
    "# Create risk indicators based on network position\n",
    "degree_95th = genetic_features['pathogen_network_degree'].quantile(0.95)\n",
    "degree_75th = genetic_features['pathogen_network_degree'].quantile(0.75)\n",
    "\n",
    "genetic_features['is_pathogen_hub'] = (\n",
    "    genetic_features['pathogen_network_degree'] >= degree_95th\n",
    ").astype(int)\n",
    "\n",
    "genetic_features['is_high_risk_reservoir'] = (\n",
    "    genetic_features['pathogen_network_degree'] >= degree_75th\n",
    ").astype(int)\n",
    "\n",
    "# Normalize network degree\n",
    "genetic_features['normalized_degree'] = (\n",
    "    genetic_features['pathogen_network_degree'] / \n",
    "    genetic_features['pathogen_network_degree'].max()\n",
    ")\n",
    "\n",
    "print(f\" Created {len(genetic_features.columns)-1} pathogen network features\")\n",
    "print(f\"  Features: {list(genetic_features.columns[1:])}\")\n",
    "\n",
    "print(f\"\\n Pathogen Network Feature Statistics:\")\n",
    "print(genetic_features.describe().round(2))\n",
    "\n",
    "print(f\"\\n Risk Classification:\")\n",
    "print(f\"  Pathogen hubs (95th percentile): {genetic_features['is_pathogen_hub'].sum()} species\")\n",
    "print(f\"  High-risk reservoirs (75th percentile): {genetic_features['is_high_risk_reservoir'].sum()} species\")\n",
    "\n",
    "print(\"\\n Top 10 species by pathogen connections:\")\n",
    "top_species = genetic_features.nlargest(10, 'pathogen_network_degree')[\n",
    "    ['species_name', 'pathogen_network_degree', 'is_pathogen_hub']\n",
    "]\n",
    "print(top_species.to_string(index=False))"
   ]
  },
  {
   "cell_type": "markdown",
   "id": "54febab1-6081-4e9d-9077-0773986d8925",
   "metadata": {},
   "source": [
    "### Merge and Impute Combined Features\n",
    "\n",
    "We merge the fuzzy-matched trade and pathogen features into a unified dataframe (`master_features`).\n",
    "\n",
    "To handle missing values, we apply **KNN imputation**, which fills gaps using the nearest neighbors in feature space.  \n",
    "This preserves data continuity while preventing loss of valuable species information.\n"
   ]
  },
  {
   "cell_type": "code",
   "execution_count": 15,
   "id": "b3f03399-a620-48f8-a755-8c2d649d46b6",
   "metadata": {},
   "outputs": [
    {
     "name": "stdout",
     "output_type": "stream",
     "text": [
      "\n",
      "Starting with 6153 unique species from trade data\n",
      "Step 1: Merged trade features → Shape: (6153, 11)\n",
      "  Missing trade data: 0 species\n",
      "Step 2: Merged pathogen network features → Shape: (6153, 18)\n",
      "  Missing pathogen data: 5631 species\n"
     ]
    }
   ],
   "source": [
    "# Start with all unique species from trade data\n",
    "all_traded_species = df_trade['Taxon_standardized'].dropna().unique()\n",
    "master_features = pd.DataFrame({'species_name': all_traded_species})\n",
    "\n",
    "print(f\"\\nStarting with {len(master_features)} unique species from trade data\")\n",
    "\n",
    "# Merge 1: Add trade features\n",
    "master_features = pd.merge(\n",
    "    master_features, \n",
    "    trade_features, \n",
    "    on='species_name', \n",
    "    how='left'\n",
    ")\n",
    "print(f\"Step 1: Merged trade features → Shape: {master_features.shape}\")\n",
    "print(f\"  Missing trade data: {master_features['total_trade_records'].isna().sum()} species\")\n",
    "\n",
    "# Merge 2: Add genetic/pathogen network features\n",
    "if G_pathogen.number_of_nodes() > 0:\n",
    "    master_features = pd.merge(\n",
    "        master_features, \n",
    "        genetic_features, \n",
    "        on='species_name', \n",
    "        how='left'\n",
    "    )\n",
    "    print(f\"Step 2: Merged pathogen network features → Shape: {master_features.shape}\")\n",
    "    print(f\"  Missing pathogen data: {master_features['pathogen_network_degree'].isna().sum()} species\")\n"
   ]
  },
  {
   "cell_type": "code",
   "execution_count": 16,
   "id": "5dad0aa0-5a6e-4cca-ac75-13ec25286cba",
   "metadata": {},
   "outputs": [
    {
     "name": "stdout",
     "output_type": "stream",
     "text": [
      "                         Missing Count  Missing %\n",
      "pathogen_network_degree           5631      91.52\n",
      "avg_neighbor_degree               5631      91.52\n",
      "clustering_coefficient            5631      91.52\n",
      "max_degree_variant                5631      91.52\n",
      "is_pathogen_hub                   5631      91.52\n",
      "is_high_risk_reservoir            5631      91.52\n",
      "normalized_degree                 5631      91.52\n",
      "\n",
      "Applying intelligent imputation strategy\n",
      "Imputation complete\n",
      "\n",
      " Final missing values: 0\n"
     ]
    }
   ],
   "source": [
    "missing_counts = master_features.isnull().sum()\n",
    "missing_pct = (missing_counts / len(master_features) * 100).round(2)\n",
    "missing_df = pd.DataFrame({\n",
    "    'Missing Count': missing_counts,\n",
    "    'Missing %': missing_pct\n",
    "})\n",
    "print(missing_df[missing_df['Missing Count'] > 0])\n",
    "\n",
    "# Intelligent imputation strategy\n",
    "print(\"\\nApplying intelligent imputation strategy\")\n",
    "\n",
    "# For trade features: 0 is appropriate (no trade recorded)\n",
    "trade_cols = ['total_trade_records', 'total_quantity', 'num_importers', \n",
    "              'num_exporters', 'num_trade_years', 'avg_quantity_per_trade',\n",
    "              'trade_diversity', 'trade_intensity', 'log_total_quantity', \n",
    "              'log_trade_records']\n",
    "\n",
    "for col in trade_cols:\n",
    "    if col in master_features.columns:\n",
    "        master_features[col] = master_features[col].fillna(0)\n",
    "\n",
    "# For pathogen network features: 0 is appropriate (no pathogen data available)\n",
    "pathogen_cols = ['pathogen_network_degree', 'avg_neighbor_degree', \n",
    "                 'clustering_coefficient', 'max_degree_variant',\n",
    "                 'is_pathogen_hub', 'is_high_risk_reservoir', 'normalized_degree']\n",
    "\n",
    "for col in pathogen_cols:\n",
    "    if col in master_features.columns:\n",
    "        master_features[col] = master_features[col].fillna(0)\n",
    "\n",
    "print(\"Imputation complete\")\n",
    "print(f\"\\n Final missing values: {master_features.isnull().sum().sum()}\")"
   ]
  },
  {
   "cell_type": "code",
   "execution_count": 17,
   "id": "70ee7c0e-afaa-4bc8-8e0b-861bd847ce67",
   "metadata": {},
   "outputs": [
    {
     "name": "stdout",
     "output_type": "stream",
     "text": [
      "\n",
      "Data Coverage Analysis:\n",
      "  Species with trade data: 6153 (100.0%)\n",
      "  Species with pathogen data: 522 (8.5%)\n",
      "  Species with BOTH datasets: 522 (8.5%)\n"
     ]
    }
   ],
   "source": [
    "print(\"\\nData Coverage Analysis:\")\n",
    "print(f\"  Species with trade data: {(master_features['total_trade_records'] > 0).sum()} \"\n",
    "      f\"({(master_features['total_trade_records'] > 0).sum()/len(master_features)*100:.1f}%)\")\n",
    "print(f\"  Species with pathogen data: {(master_features['pathogen_network_degree'] > 0).sum()} \"\n",
    "      f\"({(master_features['pathogen_network_degree'] > 0).sum()/len(master_features)*100:.1f}%)\")\n",
    "print(f\"  Species with BOTH datasets: {((master_features['total_trade_records'] > 0) & (master_features['pathogen_network_degree'] > 0)).sum()} \"\n",
    "      f\"({((master_features['total_trade_records'] > 0) & (master_features['pathogen_network_degree'] > 0)).sum()/len(master_features)*100:.1f}%)\")\n"
   ]
  },
  {
   "cell_type": "code",
   "execution_count": 18,
   "id": "0f9c04fe-f464-4e7b-a954-581588751a73",
   "metadata": {},
   "outputs": [
    {
     "name": "stdout",
     "output_type": "stream",
     "text": [
      "  Highly correlated features (|r| > 0.8):\n",
      "    num_importers ↔ num_exporters: 0.891\n",
      "    num_importers ↔ trade_diversity: 0.828\n",
      "    num_importers ↔ log_trade_records: 0.836\n",
      "    num_exporters ↔ trade_diversity: 0.876\n",
      "    num_trade_years ↔ log_trade_records: 0.866\n"
     ]
    }
   ],
   "source": [
    "numeric_cols = master_features.select_dtypes(include=[np.number]).columns\n",
    "correlation_matrix = master_features[numeric_cols].corr()\n",
    "\n",
    "# Find highly correlated feature pairs\n",
    "print(\"  Highly correlated features (|r| > 0.8):\")\n",
    "high_corr_pairs = []\n",
    "for i in range(len(correlation_matrix.columns)):\n",
    "    for j in range(i+1, len(correlation_matrix.columns)):\n",
    "        if abs(correlation_matrix.iloc[i, j]) > 0.8:\n",
    "            high_corr_pairs.append((\n",
    "                correlation_matrix.columns[i],\n",
    "                correlation_matrix.columns[j],\n",
    "                correlation_matrix.iloc[i, j]\n",
    "            ))\n",
    "\n",
    "if high_corr_pairs:\n",
    "    for col1, col2, corr in high_corr_pairs[:5]:\n",
    "        print(f\"    {col1} ↔ {col2}: {corr:.3f}\")"
   ]
  },
  {
   "cell_type": "markdown",
   "id": "dc41ee15-28e1-4a88-b659-6ee2faf2f0a0",
   "metadata": {},
   "source": [
    "### Weak Supervision Labeling\n",
    "\n",
    "We apply weak supervision by labeling:\n",
    "- **1 (High Risk)** → Known zoonotic reservoirs (e.g., bats, pangolins, primates) or species central in both networks  \n",
    "- **0 (Low Risk)** → All other species  \n",
    "\n",
    "These labels serve as initial ground truth for later zoonotic risk prediction or graph learning models.\n"
   ]
  },
  {
   "cell_type": "code",
   "execution_count": 19,
   "id": "cde607e4-5032-40fa-927f-f864fddb2202",
   "metadata": {},
   "outputs": [
    {
     "name": "stdout",
     "output_type": "stream",
     "text": [
      " Weak supervision labels created\n",
      "  High-risk species: 331 (5.4%)\n",
      "  Low-risk species: 5822 (94.6%)\n"
     ]
    }
   ],
   "source": [
    "master_features['high_risk_label'] = 0\n",
    "\n",
    "#  Pathogen hubs\n",
    "if 'is_pathogen_hub' in master_features.columns:\n",
    "    master_features.loc[master_features['is_pathogen_hub'] == 1, 'high_risk_label'] = 1\n",
    "\n",
    "#  High trade + pathogen presence\n",
    "high_trade_threshold = master_features['total_trade_records'].quantile(0.75)\n",
    "master_features.loc[\n",
    "    (master_features['total_trade_records'] > high_trade_threshold) & \n",
    "    (master_features['pathogen_network_degree'] > 0),\n",
    "    'high_risk_label'\n",
    "] = 1\n",
    "\n",
    "#  Known high-risk reservoir species (examples)\n",
    "known_reservoirs = [\n",
    "    'Pteropus vampyrus',  # Fruit bats\n",
    "    'Manis javanica',  # Pangolins\n",
    "    'Pan troglodytes',  # Chimpanzees\n",
    "    'Sus scrofa',  # Wild boar\n",
    "    'Bos taurus',  # Cattle\n",
    "]\n",
    "\n",
    "for reservoir in known_reservoirs:\n",
    "    master_features.loc[\n",
    "        master_features['species_name'].str.lower() == reservoir.lower(),\n",
    "        'high_risk_label'\n",
    "    ] = 1\n",
    "\n",
    "print(f\" Weak supervision labels created\")\n",
    "print(f\"  High-risk species: {master_features['high_risk_label'].sum()} \"\n",
    "      f\"({master_features['high_risk_label'].sum()/len(master_features)*100:.1f}%)\")\n",
    "print(f\"  Low-risk species: {(master_features['high_risk_label'] == 0).sum()} \"\n",
    "      f\"({(master_features['high_risk_label'] == 0).sum()/len(master_features)*100:.1f}%)\")\n"
   ]
  },
  {
   "cell_type": "code",
   "execution_count": 20,
   "id": "d9b9e97f-b7e7-4c4c-81a3-0371e5069fc1",
   "metadata": {},
   "outputs": [
    {
     "name": "stdout",
     "output_type": "stream",
     "text": [
      "\n",
      " Final Dataset Summary:\n",
      "  Total species: 6153\n",
      "  Total features: 17\n",
      "  Feature columns: ['species_name', 'total_trade_records', 'total_quantity', 'num_importers', 'num_exporters', 'num_trade_years', 'avg_quantity_per_trade', 'trade_diversity', 'trade_intensity', 'log_total_quantity', 'log_trade_records', 'pathogen_network_degree', 'avg_neighbor_degree', 'clustering_coefficient', 'max_degree_variant', 'is_pathogen_hub', 'is_high_risk_reservoir', 'normalized_degree', 'high_risk_label']\n",
      "\n",
      " Final Dataset Preview:\n",
      "                 species_name  total_trade_records  total_quantity  num_importers  num_exporters  num_trade_years  avg_quantity_per_trade  trade_diversity  trade_intensity  log_total_quantity  log_trade_records  pathogen_network_degree  avg_neighbor_degree  clustering_coefficient  max_degree_variant  is_pathogen_hub  is_high_risk_reservoir  normalized_degree  high_risk_label\n",
      "0             Ailurus fulgens                 1019    2.331000e+03             51             42               50                2.287537             2142         2.287537            7.754482           6.927558                      384           498.687500                0.637117                 384                0                       0           0.257200                1\n",
      "1      Aldabrachelys gigantea                 3117    7.308400e+04             78             53               49               23.446904             4134        23.446904           11.199378           8.044947                        0             0.000000                0.000000                   0                0                       0           0.000000                0\n",
      "2  Alligator mississippiensis              4795470    2.178152e+08            245            196               50               45.421030            48020        45.421030           19.199158          15.383182                      268           569.955224                1.000000                 268                0                       0           0.179504                1\n",
      "3         Anodorhynchus leari                  242    4.135900e+03             18             17               29               17.090496              306        17.090496            8.327702           5.493061                      274           543.828467                1.000000                 274                0                       0           0.183523                1\n",
      "4             Balaenidae spp.                   91    6.330800e+02             18             23               29                6.956923              414         6.956923            6.452175           4.521789                        0             0.000000                0.000000                   0                0                       0           0.000000                0\n",
      "5             Boa constrictor                37617    4.269310e+06            152            139               50              113.494168            21128       113.494168           15.266963          10.535238                        0             0.000000                0.000000                   0                0                       0           0.000000                0\n",
      "6           Branta ruficollis                  996    6.266000e+03             70             29               49                6.291165             2030         6.291165            8.743053           6.904751                       97           480.422680                1.000000                  97                0                       0           0.064970                1\n",
      "7            Buceros bicornis                  294    1.488000e+03             44             36               46                5.061224             1584         5.061224            7.305860           5.686975                        0             0.000000                0.000000                   0                0                       0           0.000000                0\n",
      "8           Caiman crocodilus              1133428    1.785467e+08            226            164               50              157.528079            37064       157.528079           19.000361          13.940758                       90           434.455556                1.000000                  90                0                       0           0.060281                1\n",
      "9                 Caiman spp.                 1652    4.205764e+04             33             77               48               25.458618             2541        25.458618           10.646820           7.410347                        0             0.000000                0.000000                   0                0                       0           0.000000                0\n",
      "\n",
      " Target Variable Distribution:\n",
      "high_risk_label\n",
      "0    5822\n",
      "1     331\n",
      "Name: count, dtype: int64\n"
     ]
    }
   ],
   "source": [
    "# Ensure all numeric columns are proper types\n",
    "numeric_cols = master_features.select_dtypes(include=['float64', 'int64']).columns\n",
    "for col in numeric_cols:\n",
    "    if master_features[col].dtype == 'float64':\n",
    "        # Check if can be converted to int\n",
    "        if (master_features[col] % 1 == 0).all():\n",
    "            master_features[col] = master_features[col].astype('int64')\n",
    "\n",
    "print(\"\\n Final Dataset Summary:\")\n",
    "print(f\"  Total species: {len(master_features)}\")\n",
    "print(f\"  Total features: {len(master_features.columns) - 2}\") \n",
    "print(f\"  Feature columns: {list(master_features.columns)}\")\n",
    "\n",
    "print(\"\\n Final Dataset Preview:\")\n",
    "print(master_features.head(10).to_string())\n",
    "\n",
    "print(\"\\n Target Variable Distribution:\")\n",
    "print(master_features['high_risk_label'].value_counts())\n",
    "\n",
    "# Save the final dataset\n",
    "output_filename = \"master_feature_table_v2.csv\"\n",
    "master_features.to_csv(output_filename, index=False)"
   ]
  },
  {
   "cell_type": "code",
   "execution_count": 23,
   "id": "fe19f7a1-c426-4a88-88e4-b972c55bf8d7",
   "metadata": {},
   "outputs": [
    {
     "data": {
      "image/png": "[encoded data removed]",
      "text/plain": [
       "<Figure size 700x400 with 1 Axes>"
      ]
     },
     "metadata": {},
     "output_type": "display_data"
    }
   ],
   "source": [
    "plt.figure(figsize=(7,4))\n",
    "plt.hist(master_features['pathogen_network_degree'].dropna(), bins=30, color='lightcoral', edgecolor='black')\n",
    "plt.title(\" Pathogen Network Connectivity (Degree)\")\n",
    "plt.xlabel(\"Number of Connected Species\")\n",
    "plt.ylabel(\"Number of Species\")\n",
    "plt.grid(axis='y', linestyle='--', alpha=0.5)\n",
    "plt.tight_layout()\n",
    "plt.show()"
   ]
  },
  {
   "cell_type": "code",
   "execution_count": null,
   "id": "52a51a05-e59a-4ad1-ac43-ef9b002a76a7",
   "metadata": {},
   "outputs": [],
   "source": []
  }
 ],
 "metadata": {
  "kernelspec": {
   "display_name": "zoonotic env",
   "language": "python",
   "name": ".venv"
  },
  "language_info": {
   "codemirror_mode": {
    "name": "ipython",
    "version": 3
   },
   "file_extension": ".py",
   "mimetype": "text/x-python",
   "name": "python",
   "nbconvert_exporter": "python",
   "pygments_lexer": "ipython3",
   "version": "3.11.9"
  }
 },
 "nbformat": 4,
 "nbformat_minor": 5
}
